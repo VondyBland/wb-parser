{
 "cells": [
  {
   "cell_type": "code",
   "execution_count": null,
   "id": "c0158d60-47d7-473f-8051-102b26a46efb",
   "metadata": {},
   "outputs": [],
   "source": [
    "import time\n",
    "from selenium import webdriver\n",
    "from selenium.webdriver.common.by import By\n",
    "import pandas as pd\n",
    "# from selenium.webdriver.common.action_chains import ActionChains\n",
    "# from selenium.webdriver.common.keys import Keysdriver\n",
    "# from pynput.keyboard import Key, Controller"
   ]
  },
  {
   "cell_type": "code",
   "execution_count": null,
   "id": "afcb01bd-ef33-439b-a807-90480000385f",
   "metadata": {},
   "outputs": [],
   "source": [
    "wb = pd.read_csv('cashpo.csv')"
   ]
  },
  {
   "cell_type": "code",
   "execution_count": null,
   "id": "7a633bd7-2abc-440a-8c2e-281e73da9c97",
   "metadata": {
    "tags": []
   },
   "outputs": [],
   "source": [
    "wb.head(40)"
   ]
  },
  {
   "cell_type": "code",
   "execution_count": null,
   "id": "79e1267b-1371-4b8f-8e5e-da88cd9c0d57",
   "metadata": {
    "tags": []
   },
   "outputs": [],
   "source": [
    "# driver.execute_script(\"window.open('https://www.wildberries.ru/catalog/dlya-doma/predmety-interera/tsvety-vazy-kashpo/kashpo');\")\n",
    "# time.sleep(20)\n",
    "# driver.switch_to.window(driver.window_handles[-1])\n",
    "# driver.get(\"https://www.google.com\")"
   ]
  },
  {
   "cell_type": "code",
   "execution_count": null,
   "id": "fadfa20e-3cbf-4701-aa40-33929532fc57",
   "metadata": {
    "tags": []
   },
   "outputs": [],
   "source": [
    "driver = webdriver.Chrome()"
   ]
  },
  {
   "cell_type": "code",
   "execution_count": null,
   "id": "0793f49e-16d5-41ea-a703-5b6403431d4e",
   "metadata": {
    "tags": []
   },
   "outputs": [],
   "source": [
    "url = 'https://www.wildberries.ru/catalog/dlya-doma/predmety-interera/tsvety-vazy-kashpo/kashpo'\n",
    "driver = webdriver.Chrome()\n",
    "\n",
    "\n",
    "\n",
    "try:\n",
    "    driver.get(url=url)\n",
    "    time.sleep(20)\n",
    "    print('main base loaded')\n",
    "    time.sleep(20)\n",
    "    for i in range(100):\n",
    "        driver.execute_script(\"window.scrollTo(0, document.body.scrollHeight);\")\n",
    "        time.sleep(5)\n",
    "        items = driver.find_elements_by_class_name(\"product-card__wrapper\")\n",
    "        items[i].click()\n",
    "        time.sleep(5)\n",
    "        current_url = driver.current_url\n",
    "        final_price = driver.find_element_by_class_name(\"price-block__final-price\")\n",
    "        # print(final_price.text)\n",
    "        # time.sleep(5)\n",
    "        old_price = driver.find_element_by_class_name(\"price-block__old-price.j-wba-card-item-show\")\n",
    "        # print(old_price.text)\n",
    "        # time.sleep(5)\n",
    "        descr = driver.find_element_by_class_name(\"collapsable__text\")\n",
    "        # print(descr.text)\n",
    "        # time.sleep(5)\n",
    "        seller = driver.find_element_by_xpath(\"/html/body/div[1]/main/div[2]/div/div[3]/div/div[3]/div[11]/div/div[2]/section/div/div/div/div/a\")\n",
    "        # print(seller.text)\n",
    "        # time.sleep(5)\n",
    "        rating = driver.find_element_by_xpath('/html/body/div[1]/main/div[2]/div/div[3]/div/div[3]/div[7]/div[3]/a/span[1]')\n",
    "        purchases = driver.find_element_by_xpath('/html/body/div[1]/main/div[2]/div/div[3]/div/div[3]/div[7]/div[3]/p[2]/span')\n",
    "        new_data = {}\n",
    "        new_data = {'url':current_url,'seller':seller.text,'final_price':final_price.text,'old_price':old_price.text,'description':descr.text,'rating':rating.text,'purchases':purchases.text}\n",
    "        wb = wb.append(new_data,ignore_index=True)\n",
    "        time.sleep(5)\n",
    "        # print(rating.text)\n",
    "        print(f'{i} base loaded')\n",
    "        driver.get(url=url)\n",
    "        time.sleep(5)\n",
    "        driver.execute_script(\"window.scrollTo(0, document.body.scrollHeight);\")\n",
    "        time.sleep(5)\n",
    "        print('main base loaded')\n",
    "except Exception as ex:\n",
    "    print(ex)\n",
    "finally:\n",
    "    driver.close()\n",
    "    driver.quit()\n"
   ]
  },
  {
   "cell_type": "code",
   "execution_count": null,
   "id": "041d2c7c-cb94-412c-b1ee-48bd6413ff52",
   "metadata": {},
   "outputs": [],
   "source": [
    "browser.execute_script('''window.open(\"http://bings.com\",\"_blank\");''')\n",
    "driver.find_element(By.).get_attribute('href') "
   ]
  },
  {
   "cell_type": "code",
   "execution_count": null,
   "id": "7d743285-c2e1-4bcd-a25b-c03c97512711",
   "metadata": {
    "tags": []
   },
   "outputs": [],
   "source": [
    "driver = webdriver.Chrome()\n",
    "url = 'https://www.wildberries.ru/catalog/dlya-doma/predmety-interera/tsvety-vazy-kashpo/kashpo'\n",
    "\n",
    "\n",
    "try:\n",
    "    driver.get(url=url)\n",
    "    time.sleep(10)\n",
    "    print('main base loaded')\n",
    "    driver.execute_script(\"window.scrollTo(0, document.body.scrollHeight);\")\n",
    "    time.sleep(1)\n",
    "    driver.execute_script(\"window.scrollTo(0, document.body.scrollHeight);\")\n",
    "    time.sleep(1)\n",
    "    driver.execute_script(\"window.scrollTo(0, document.body.scrollHeight);\")\n",
    "    time.sleep(1)\n",
    "    driver.execute_script(\"window.scrollTo(0, document.body.scrollHeight);\")\n",
    "    time.sleep(1)\n",
    "    driver.execute_script(\"window.scrollTo(0, document.body.scrollHeight);\")\n",
    "    time.sleep(1)\n",
    "    driver.execute_script(\"window.scrollTo(0, document.body.scrollHeight);\")\n",
    "    time.sleep(1)\n",
    "    driver.execute_script(\"window.scrollTo(0, document.body.scrollHeight);\")\n",
    "    time.sleep(1)\n",
    "    driver.execute_script(\"window.scrollTo(0, document.body.scrollHeight);\")\n",
    "    time.sleep(1)\n",
    "    driver.execute_script(\"window.scrollTo(0, document.body.scrollHeight);\")\n",
    "    time.sleep(1)\n",
    "    driver.execute_script(\"window.scrollTo(0, document.body.scrollHeight);\")\n",
    "    time.sleep(1)\n",
    "    driver.execute_script(\"window.scrollTo(0, document.body.scrollHeight);\")\n",
    "    time.sleep(1)\n",
    "    driver.execute_script(\"window.scrollTo(0, document.body.scrollHeight);\")\n",
    "    time.sleep(5)\n",
    "    for i in range(1,100):\n",
    "        item = driver.find_element(By.XPATH,f'/html/body/div[1]/main/div[2]/div/div[2]/div/div[5]/div[1]/div[1]/div/article[{i}]/div/a').get_attribute('href') \n",
    "        hrefs.append(item)\n",
    "        time.sleep(1)\n",
    "except Exception as ex:\n",
    "    print(ex)\n",
    "finally:\n",
    "    driver.close()\n",
    "    driver.quit()\n",
    "    "
   ]
  },
  {
   "cell_type": "code",
   "execution_count": null,
   "id": "99adad30-e1d1-4d6a-a47e-9d0847e4494d",
   "metadata": {
    "tags": []
   },
   "outputs": [],
   "source": [
    "driver = webdriver.Chrome()\n",
    "url = 'https://www.wildberries.ru/catalog/dlya-doma/predmety-interera/tsvety-vazy-kashpo/kashpo'\n",
    "\n",
    "try:\n",
    "    for k in range(len(hrefs)+1):\n",
    "        driver.get(url=hrefs[k])\n",
    "        time.sleep(10)\n",
    "        final_price = driver.find_element(By.CLASS_NAME,\"price-block__final-price\")\n",
    "        # print(final_price.text)\n",
    "        # time.sleep(5)\n",
    "        old_price = driver.find_element(By.CLASS_NAME,\"price-block__old-price.j-wba-card-item-show\")\n",
    "        # print(old_price.text)\n",
    "        # time.sleep(5)\n",
    "        descr = driver.find_element(By.CLASS_NAME,\"collapsable__text\")\n",
    "        # print(descr.text)\n",
    "        # time.sleep(5)\n",
    "        seller = driver.find_element(By.XPATH,\"/html/body/div[1]/main/div[2]/div/div[3]/div/div[3]/div[11]/div/div[2]/section/div/div/div/div/a\")\n",
    "        # print(seller.text)\n",
    "        # time.sleep(5)\n",
    "        rating = driver.find_element(By.XPATH,'/html/body/div[1]/main/div[2]/div/div[3]/div/div[3]/div[7]/div[3]/a/span[1]')\n",
    "        purchases = driver.find_element(By.XPATH,'/html/body/div[1]/main/div[2]/div/div[3]/div/div[3]/div[7]/div[3]/p[2]/span')\n",
    "        new_data = {}\n",
    "        new_data = {'url':hrefs[k],'seller':seller.text,'final_price':final_price.text,'old_price':old_price.text,'description':descr.text,'rating':rating.text,'purchases':purchases.text}\n",
    "        wb = wb.append(new_data,ignore_index=True)\n",
    "        time.sleep(5)\n",
    "except Exception as ex:\n",
    "    print(ex)\n",
    "finally:\n",
    "    driver.close()\n",
    "    driver.quit()    "
   ]
  },
  {
   "cell_type": "code",
   "execution_count": null,
   "id": "8fa34885-f25c-4875-b1cb-ca70fa624791",
   "metadata": {},
   "outputs": [],
   "source": [
    "        final_price = driver.find_element(By.CLASS_NAME,\"price-block__final-price\")\n",
    "        # print(final_price.text)\n",
    "        # time.sleep(5)\n",
    "        old_price = driver.find_element(By.CLASS_NAME,\"price-block__old-price.j-wba-card-item-show\")\n",
    "        # print(old_price.text)\n",
    "        # time.sleep(5)\n",
    "        descr = driver.find_element(By.CLASS_NAME,\"collapsable__text\")\n",
    "        # print(descr.text)\n",
    "        # time.sleep(5)\n",
    "        seller = driver.find_element(By.XPATH,\"/html/body/div[1]/main/div[2]/div/div[3]/div/div[3]/div[11]/div/div[2]/section/div/div/div/div/a\")\n",
    "        # print(seller.text)\n",
    "        # time.sleep(5)\n",
    "        rating = driver.find_element(By.XPATH,'/html/body/div[1]/main/div[2]/div/div[3]/div/div[3]/div[7]/div[3]/a/span[1]')\n",
    "        purchases = driver.find_element(By.XPATH,'/html/body/div[1]/main/div[2]/div/div[3]/div/div[3]/div[7]/div[3]/p[2]/span')\n",
    "        new_data = {}\n",
    "        new_data = {'url':current_url,'seller':seller.text,'final_price':final_price.text,'old_price':old_price.text,'description':descr.text,'rating':rating.text,'purchases':purchases.text}\n",
    "        wb = wb.append(new_data,ignore_index=True)\n",
    "        time.sleep(5)"
   ]
  },
  {
   "cell_type": "code",
   "execution_count": null,
   "id": "8b139ed0-e097-42c6-bcf4-2b5c9e994c52",
   "metadata": {},
   "outputs": [],
   "source": [
    "print(hrefs[22])"
   ]
  },
  {
   "cell_type": "code",
   "execution_count": null,
   "id": "647d684f-c22a-4e15-a109-54614aed0b5a",
   "metadata": {},
   "outputs": [],
   "source": [
    "hrefs=[]"
   ]
  },
  {
   "cell_type": "code",
   "execution_count": null,
   "id": "7a3c04fb-3654-45dd-939c-63d8e79a1529",
   "metadata": {},
   "outputs": [],
   "source": [
    "# Теперь парсим объекты со странички и в дф сразу же их"
   ]
  },
  {
   "cell_type": "code",
   "execution_count": null,
   "id": "fb74fada-b4af-4454-b2c2-4fb9ef8dd212",
   "metadata": {},
   "outputs": [],
   "source": [
    "new_data"
   ]
  },
  {
   "cell_type": "code",
   "execution_count": null,
   "id": "253bc65c-45bb-45b8-9940-05a72da3556e",
   "metadata": {},
   "outputs": [],
   "source": [
    "wb.iat[30,3].replace(' ₽','')"
   ]
  },
  {
   "cell_type": "code",
   "execution_count": null,
   "id": "62a60e07-fc2c-430b-8c18-49e90cb852fb",
   "metadata": {},
   "outputs": [],
   "source": [
    "wb = wb.replace(' ₽','')"
   ]
  },
  {
   "cell_type": "code",
   "execution_count": null,
   "id": "24462dd0-732f-4475-804b-422cf1c61dfd",
   "metadata": {
    "tags": []
   },
   "outputs": [],
   "source": [
    "wb.groupby('seller')['rating'].mean()"
   ]
  },
  {
   "cell_type": "code",
   "execution_count": null,
   "id": "4af4bce0-79ff-4d94-b606-802768f7b229",
   "metadata": {},
   "outputs": [],
   "source": [
    "wb"
   ]
  },
  {
   "cell_type": "code",
   "execution_count": null,
   "id": "1c671d06-085e-4b4d-a2f6-3bedcfde9dfc",
   "metadata": {},
   "outputs": [],
   "source": [
    "wb.dtypes"
   ]
  },
  {
   "cell_type": "code",
   "execution_count": null,
   "id": "e5c6cd80-fb9d-4aea-94ca-a13a667b6d66",
   "metadata": {},
   "outputs": [],
   "source": [
    "wb['final_price'] = wb['final_price'].astype(str)"
   ]
  },
  {
   "cell_type": "code",
   "execution_count": null,
   "id": "84d87d51-9be6-490e-86d1-50310e243dfa",
   "metadata": {},
   "outputs": [],
   "source": []
  },
  {
   "cell_type": "code",
   "execution_count": null,
   "id": "816ae2ce-db12-4af1-9a5a-e56581878ced",
   "metadata": {},
   "outputs": [],
   "source": []
  },
  {
   "cell_type": "code",
   "execution_count": null,
   "id": "0c39d936-07b0-47a2-9993-88c6b5c002ec",
   "metadata": {},
   "outputs": [],
   "source": [
    "wb.to_csv('wb1.csv', encoding='utf-8')"
   ]
  }
 ],
 "metadata": {
  "kernelspec": {
   "display_name": "Python 3 (ipykernel)",
   "language": "python",
   "name": "python3"
  },
  "language_info": {
   "codemirror_mode": {
    "name": "ipython",
    "version": 3
   },
   "file_extension": ".py",
   "mimetype": "text/x-python",
   "name": "python",
   "nbconvert_exporter": "python",
   "pygments_lexer": "ipython3",
   "version": "3.9.7"
  }
 },
 "nbformat": 4,
 "nbformat_minor": 5
}
